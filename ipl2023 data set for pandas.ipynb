{
 "cells": [
  {
   "cell_type": "raw",
   "id": "fd262504",
   "metadata": {},
   "source": [
    "About Dataset\n",
    "Plot\n",
    "\n",
    "Cricket is like a festival in India. People sometimes forget their political fight, corporate dateline when it comes to cheering up their favorite cricket team. So, here is ball by ball updates of every game happened in ipl 2023.\n",
    "\n",
    "Your Task:- \n",
    "Importing the dataset\n",
    "Analysis of match1\n",
    "Task 1.1: How many balls played by inning 1 and 2\n",
    "Task 1.2: Find out how many wickets took in inning1 and 2\n",
    "Task 1.3: How many wide balls in inning 1 and 2\n",
    "Task 1.4: Score of both teams\n",
    "Task 1.5: How many catches in inning 1 and inning 2\n",
    "Task 1.6: How many run out in inning 1 and inning 2\n",
    "Task 1.7: How many stump out in inning 1 and inning 2\n"
   ]
  },
  {
   "cell_type": "code",
   "execution_count": null,
   "id": "8d60ad31",
   "metadata": {},
   "outputs": [],
   "source": []
  }
 ],
 "metadata": {
  "kernelspec": {
   "display_name": "Python 3 (ipykernel)",
   "language": "python",
   "name": "python3"
  },
  "language_info": {
   "codemirror_mode": {
    "name": "ipython",
    "version": 3
   },
   "file_extension": ".py",
   "mimetype": "text/x-python",
   "name": "python",
   "nbconvert_exporter": "python",
   "pygments_lexer": "ipython3",
   "version": "3.9.12"
  }
 },
 "nbformat": 4,
 "nbformat_minor": 5
}
