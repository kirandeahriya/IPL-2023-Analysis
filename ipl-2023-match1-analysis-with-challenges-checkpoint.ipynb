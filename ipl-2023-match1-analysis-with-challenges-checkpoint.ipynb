{
 "cells": [
  {
   "cell_type": "code",
   "execution_count": 1,
   "metadata": {
    "_cell_guid": "b1076dfc-b9ad-4769-8c92-a6c4dae69d19",
    "_uuid": "8f2839f25d086af736a60e9eeb907d3b93b6e0e5",
    "execution": {
     "iopub.execute_input": "2023-04-27T13:41:04.342075Z",
     "iopub.status.busy": "2023-04-27T13:41:04.341661Z",
     "iopub.status.idle": "2023-04-27T13:41:04.361953Z",
     "shell.execute_reply": "2023-04-27T13:41:04.360786Z",
     "shell.execute_reply.started": "2023-04-27T13:41:04.342038Z"
    }
   },
   "outputs": [],
   "source": [
    "import numpy as np # linear algebra\n",
    "import pandas as pd # data processing, CSV file I/O (e.g. pd.read_csv)\n",
    "import matplotlib.pyplot as plt\n",
    "import seaborn as sns\n"
   ]
  },
  {
   "cell_type": "markdown",
   "metadata": {},
   "source": [
    "## Importing the dataset"
   ]
  },
  {
   "cell_type": "code",
   "execution_count": 2,
   "metadata": {
    "execution": {
     "iopub.execute_input": "2023-04-27T13:41:04.36391Z",
     "iopub.status.busy": "2023-04-27T13:41:04.363409Z",
     "iopub.status.idle": "2023-04-27T13:41:04.36904Z",
     "shell.execute_reply": "2023-04-27T13:41:04.368024Z",
     "shell.execute_reply.started": "2023-04-27T13:41:04.363865Z"
    }
   },
   "outputs": [],
   "source": [
    "pd.set_option('display.max_colwidth', 1000)"
   ]
  },
  {
   "cell_type": "code",
   "execution_count": 3,
   "metadata": {
    "execution": {
     "iopub.execute_input": "2023-04-27T13:41:04.371282Z",
     "iopub.status.busy": "2023-04-27T13:41:04.370648Z",
     "iopub.status.idle": "2023-04-27T13:41:04.416351Z",
     "shell.execute_reply": "2023-04-27T13:41:04.4154Z",
     "shell.execute_reply.started": "2023-04-27T13:41:04.371247Z"
    }
   },
   "outputs": [
    {
     "data": {
      "text/html": [
       "<div>\n",
       "<style scoped>\n",
       "    .dataframe tbody tr th:only-of-type {\n",
       "        vertical-align: middle;\n",
       "    }\n",
       "\n",
       "    .dataframe tbody tr th {\n",
       "        vertical-align: top;\n",
       "    }\n",
       "\n",
       "    .dataframe thead th {\n",
       "        text-align: right;\n",
       "    }\n",
       "</style>\n",
       "<table border=\"1\" class=\"dataframe\">\n",
       "  <thead>\n",
       "    <tr style=\"text-align: right;\">\n",
       "      <th></th>\n",
       "      <th>match_no</th>\n",
       "      <th>ballnumber</th>\n",
       "      <th>inningno</th>\n",
       "      <th>over</th>\n",
       "      <th>outcome</th>\n",
       "      <th>batter</th>\n",
       "      <th>bowler</th>\n",
       "      <th>comment</th>\n",
       "    </tr>\n",
       "  </thead>\n",
       "  <tbody>\n",
       "    <tr>\n",
       "      <th>0</th>\n",
       "      <td>1</td>\n",
       "      <td>1</td>\n",
       "      <td>1</td>\n",
       "      <td>0.1</td>\n",
       "      <td>0</td>\n",
       "      <td>Devon Conway</td>\n",
       "      <td>Mohammed Shami</td>\n",
       "      <td>Mohammed Shami to Devon Conway, no run,</td>\n",
       "    </tr>\n",
       "    <tr>\n",
       "      <th>1</th>\n",
       "      <td>1</td>\n",
       "      <td>2</td>\n",
       "      <td>1</td>\n",
       "      <td>0.2</td>\n",
       "      <td>1lb</td>\n",
       "      <td>Devon Conway</td>\n",
       "      <td>Mohammed Shami</td>\n",
       "      <td>Mohammed Shami to Devon Conway, 1 leg bye,</td>\n",
       "    </tr>\n",
       "    <tr>\n",
       "      <th>2</th>\n",
       "      <td>1</td>\n",
       "      <td>3</td>\n",
       "      <td>1</td>\n",
       "      <td>0.3</td>\n",
       "      <td>0</td>\n",
       "      <td>Ruturaj Gaikwad</td>\n",
       "      <td>Mohammed Shami</td>\n",
       "      <td>Mohammed Shami to Ruturaj Gaikwad, no run,</td>\n",
       "    </tr>\n",
       "    <tr>\n",
       "      <th>3</th>\n",
       "      <td>1</td>\n",
       "      <td>4</td>\n",
       "      <td>1</td>\n",
       "      <td>0.4</td>\n",
       "      <td>1</td>\n",
       "      <td>Ruturaj Gaikwad</td>\n",
       "      <td>Mohammed Shami</td>\n",
       "      <td>Mohammed Shami to Ruturaj Gaikwad, 1 run,</td>\n",
       "    </tr>\n",
       "    <tr>\n",
       "      <th>4</th>\n",
       "      <td>1</td>\n",
       "      <td>5</td>\n",
       "      <td>1</td>\n",
       "      <td>0.5</td>\n",
       "      <td>0</td>\n",
       "      <td>Devon Conway</td>\n",
       "      <td>Mohammed Shami</td>\n",
       "      <td>Mohammed Shami to Devon Conway, no run,</td>\n",
       "    </tr>\n",
       "    <tr>\n",
       "      <th>...</th>\n",
       "      <td>...</td>\n",
       "      <td>...</td>\n",
       "      <td>...</td>\n",
       "      <td>...</td>\n",
       "      <td>...</td>\n",
       "      <td>...</td>\n",
       "      <td>...</td>\n",
       "      <td>...</td>\n",
       "    </tr>\n",
       "    <tr>\n",
       "      <th>238</th>\n",
       "      <td>1</td>\n",
       "      <td>118</td>\n",
       "      <td>2</td>\n",
       "      <td>18.5</td>\n",
       "      <td>4</td>\n",
       "      <td>Rashid Khan</td>\n",
       "      <td>Deepak Chahar</td>\n",
       "      <td>Deepak Chahar to Rashid Khan, Four,</td>\n",
       "    </tr>\n",
       "    <tr>\n",
       "      <th>239</th>\n",
       "      <td>1</td>\n",
       "      <td>119</td>\n",
       "      <td>2</td>\n",
       "      <td>18.6</td>\n",
       "      <td>0</td>\n",
       "      <td>Rashid Khan</td>\n",
       "      <td>Deepak Chahar</td>\n",
       "      <td>Deepak Chahar to Rashid Khan, no run,</td>\n",
       "    </tr>\n",
       "    <tr>\n",
       "      <th>240</th>\n",
       "      <td>1</td>\n",
       "      <td>120</td>\n",
       "      <td>2</td>\n",
       "      <td>19.1</td>\n",
       "      <td>1wd</td>\n",
       "      <td>Rahul Tewatia</td>\n",
       "      <td>Tushar Deshpande</td>\n",
       "      <td>Tushar Deshpande to Rahul Tewatia, 1 wide,</td>\n",
       "    </tr>\n",
       "    <tr>\n",
       "      <th>241</th>\n",
       "      <td>1</td>\n",
       "      <td>121</td>\n",
       "      <td>2</td>\n",
       "      <td>19.1</td>\n",
       "      <td>6</td>\n",
       "      <td>Rahul Tewatia</td>\n",
       "      <td>Tushar Deshpande</td>\n",
       "      <td>Tushar Deshpande to Rahul Tewatia, Six,</td>\n",
       "    </tr>\n",
       "    <tr>\n",
       "      <th>242</th>\n",
       "      <td>1</td>\n",
       "      <td>122</td>\n",
       "      <td>2</td>\n",
       "      <td>19.2</td>\n",
       "      <td>4</td>\n",
       "      <td>Rahul Tewatia</td>\n",
       "      <td>Tushar Deshpande</td>\n",
       "      <td>Tushar Deshpande to Rahul Tewatia, Four,</td>\n",
       "    </tr>\n",
       "  </tbody>\n",
       "</table>\n",
       "<p>243 rows × 8 columns</p>\n",
       "</div>"
      ],
      "text/plain": [
       "     match_no  ballnumber  inningno  over outcome           batter  \\\n",
       "0           1           1         1   0.1       0     Devon Conway   \n",
       "1           1           2         1   0.2     1lb     Devon Conway   \n",
       "2           1           3         1   0.3       0  Ruturaj Gaikwad   \n",
       "3           1           4         1   0.4       1  Ruturaj Gaikwad   \n",
       "4           1           5         1   0.5       0     Devon Conway   \n",
       "..        ...         ...       ...   ...     ...              ...   \n",
       "238         1         118         2  18.5       4      Rashid Khan   \n",
       "239         1         119         2  18.6       0      Rashid Khan   \n",
       "240         1         120         2  19.1     1wd    Rahul Tewatia   \n",
       "241         1         121         2  19.1       6    Rahul Tewatia   \n",
       "242         1         122         2  19.2       4    Rahul Tewatia   \n",
       "\n",
       "               bowler                                     comment  \n",
       "0      Mohammed Shami     Mohammed Shami to Devon Conway, no run,  \n",
       "1      Mohammed Shami  Mohammed Shami to Devon Conway, 1 leg bye,  \n",
       "2      Mohammed Shami  Mohammed Shami to Ruturaj Gaikwad, no run,  \n",
       "3      Mohammed Shami   Mohammed Shami to Ruturaj Gaikwad, 1 run,  \n",
       "4      Mohammed Shami     Mohammed Shami to Devon Conway, no run,  \n",
       "..                ...                                         ...  \n",
       "238     Deepak Chahar         Deepak Chahar to Rashid Khan, Four,  \n",
       "239     Deepak Chahar       Deepak Chahar to Rashid Khan, no run,  \n",
       "240  Tushar Deshpande  Tushar Deshpande to Rahul Tewatia, 1 wide,  \n",
       "241  Tushar Deshpande     Tushar Deshpande to Rahul Tewatia, Six,  \n",
       "242  Tushar Deshpande    Tushar Deshpande to Rahul Tewatia, Four,  \n",
       "\n",
       "[243 rows x 8 columns]"
      ]
     },
     "execution_count": 3,
     "metadata": {},
     "output_type": "execute_result"
    }
   ],
   "source": [
    "data = pd.read_csv('each_ball_records.csv')\n",
    "match1 = data[data['match_no'] == 1]\n",
    "match1"
   ]
  },
  {
   "cell_type": "markdown",
   "metadata": {},
   "source": [
    "## Analysis of match1"
   ]
  },
  {
   "cell_type": "markdown",
   "metadata": {},
   "source": [
    "## Task 1.1: How many balls played by inning 1 and 2"
   ]
  },
  {
   "cell_type": "code",
   "execution_count": null,
   "metadata": {
    "execution": {
     "iopub.execute_input": "2023-04-27T13:41:04.419539Z",
     "iopub.status.busy": "2023-04-27T13:41:04.418903Z",
     "iopub.status.idle": "2023-04-27T13:41:04.427161Z",
     "shell.execute_reply": "2023-04-27T13:41:04.425673Z",
     "shell.execute_reply.started": "2023-04-27T13:41:04.419492Z"
    }
   },
   "outputs": [],
   "source": [
    "balls_played1 = len(match1[match1['inningno'] == 1])\n",
    "balls_played2 = len(match1[match1['inningno'] == 2])\n",
    "print(balls_played1)\n",
    "print(balls_played2)"
   ]
  },
  {
   "cell_type": "markdown",
   "metadata": {},
   "source": [
    "## Task 1.2: Find out how many wickets took in inning1 and 2"
   ]
  },
  {
   "cell_type": "code",
   "execution_count": null,
   "metadata": {
    "execution": {
     "iopub.execute_input": "2023-04-27T13:41:04.4306Z",
     "iopub.status.busy": "2023-04-27T13:41:04.429792Z",
     "iopub.status.idle": "2023-04-27T13:41:04.44326Z",
     "shell.execute_reply": "2023-04-27T13:41:04.441832Z",
     "shell.execute_reply.started": "2023-04-27T13:41:04.430546Z"
    }
   },
   "outputs": [],
   "source": [
    "match1['outcome'].unique()"
   ]
  },
  {
   "cell_type": "code",
   "execution_count": null,
   "metadata": {
    "execution": {
     "iopub.execute_input": "2023-04-27T13:41:04.446174Z",
     "iopub.status.busy": "2023-04-27T13:41:04.445366Z",
     "iopub.status.idle": "2023-04-27T13:41:04.455404Z",
     "shell.execute_reply": "2023-04-27T13:41:04.454133Z",
     "shell.execute_reply.started": "2023-04-27T13:41:04.44613Z"
    }
   },
   "outputs": [],
   "source": [
    "wickets1 = len(match1[(match1['inningno'] == 1) & (match1['outcome'] == 'w')])\n",
    "wickets2 = len(match1[(match1['inningno'] == 2) & (match1['outcome'] == 'w')])\n",
    "print(wickets1)\n",
    "print(wickets2)"
   ]
  },
  {
   "cell_type": "code",
   "execution_count": null,
   "metadata": {
    "execution": {
     "iopub.execute_input": "2023-04-27T13:41:04.45748Z",
     "iopub.status.busy": "2023-04-27T13:41:04.456921Z",
     "iopub.status.idle": "2023-04-27T13:41:04.466559Z",
     "shell.execute_reply": "2023-04-27T13:41:04.465144Z",
     "shell.execute_reply.started": "2023-04-27T13:41:04.457432Z"
    }
   },
   "outputs": [],
   "source": [
    "## 7 wickets took in inning1 and 5 inning2"
   ]
  },
  {
   "cell_type": "markdown",
   "metadata": {},
   "source": [
    "## Task 1.3: How many wide balls in inning 1 and 2"
   ]
  },
  {
   "cell_type": "code",
   "execution_count": null,
   "metadata": {
    "execution": {
     "iopub.execute_input": "2023-04-27T13:41:04.468602Z",
     "iopub.status.busy": "2023-04-27T13:41:04.468247Z",
     "iopub.status.idle": "2023-04-27T13:41:04.481527Z",
     "shell.execute_reply": "2023-04-27T13:41:04.480297Z",
     "shell.execute_reply.started": "2023-04-27T13:41:04.46857Z"
    }
   },
   "outputs": [],
   "source": [
    "wide1 = len(match1[(match1['inningno'] == 1) & (match1['outcome'] == '1wd')])\n",
    "wide2 = len(match1[(match1['inningno'] == 2) & (match1['outcome'] == '1wd')])\n",
    "print(wide1)\n",
    "print(wide2)"
   ]
  },
  {
   "cell_type": "markdown",
   "metadata": {},
   "source": [
    "## Task 1.4: Score of both teams"
   ]
  },
  {
   "cell_type": "code",
   "execution_count": null,
   "metadata": {
    "execution": {
     "iopub.execute_input": "2023-04-27T13:41:04.483767Z",
     "iopub.status.busy": "2023-04-27T13:41:04.48305Z",
     "iopub.status.idle": "2023-04-27T13:41:04.493284Z",
     "shell.execute_reply": "2023-04-27T13:41:04.491966Z",
     "shell.execute_reply.started": "2023-04-27T13:41:04.483702Z"
    }
   },
   "outputs": [],
   "source": [
    "## In outcome column, only w is replace by 0 and other have integer that will tell use score"
   ]
  },
  {
   "cell_type": "code",
   "execution_count": null,
   "metadata": {
    "execution": {
     "iopub.execute_input": "2023-04-27T13:41:04.498791Z",
     "iopub.status.busy": "2023-04-27T13:41:04.496884Z",
     "iopub.status.idle": "2023-04-27T13:41:04.521342Z",
     "shell.execute_reply": "2023-04-27T13:41:04.519929Z",
     "shell.execute_reply.started": "2023-04-27T13:41:04.498729Z"
    }
   },
   "outputs": [],
   "source": [
    "data1 = match1\n",
    "data1"
   ]
  },
  {
   "cell_type": "code",
   "execution_count": null,
   "metadata": {
    "execution": {
     "iopub.execute_input": "2023-04-27T13:41:04.595333Z",
     "iopub.status.busy": "2023-04-27T13:41:04.594895Z",
     "iopub.status.idle": "2023-04-27T13:41:04.621945Z",
     "shell.execute_reply": "2023-04-27T13:41:04.620121Z",
     "shell.execute_reply.started": "2023-04-27T13:41:04.595291Z"
    }
   },
   "outputs": [],
   "source": [
    "data1['outcome'] = data1['outcome'].replace(['0', '1lb', '1', '4', 'w', '6', '1nb', '4lb', '2', '1b', '1wd',\n",
    "       '2nb'], [0,1,1,4,0,6,1,4,2,1,1,2])\n",
    "data1"
   ]
  },
  {
   "cell_type": "code",
   "execution_count": null,
   "metadata": {
    "execution": {
     "iopub.execute_input": "2023-04-27T13:41:04.625493Z",
     "iopub.status.busy": "2023-04-27T13:41:04.624665Z",
     "iopub.status.idle": "2023-04-27T13:41:04.648995Z",
     "shell.execute_reply": "2023-04-27T13:41:04.647543Z",
     "shell.execute_reply.started": "2023-04-27T13:41:04.625388Z"
    }
   },
   "outputs": [],
   "source": [
    "score_data = data1.groupby('inningno').agg(scored = ('outcome', 'sum')).reset_index()\n",
    "score_data"
   ]
  },
  {
   "cell_type": "code",
   "execution_count": null,
   "metadata": {
    "execution": {
     "iopub.execute_input": "2023-04-27T13:41:04.650949Z",
     "iopub.status.busy": "2023-04-27T13:41:04.650545Z",
     "iopub.status.idle": "2023-04-27T13:41:04.656743Z",
     "shell.execute_reply": "2023-04-27T13:41:04.65533Z",
     "shell.execute_reply.started": "2023-04-27T13:41:04.650912Z"
    }
   },
   "outputs": [],
   "source": [
    "## Team1 scores 178 runs and Team2 scores 182 runs"
   ]
  },
  {
   "cell_type": "markdown",
   "metadata": {
    "execution": {
     "iopub.execute_input": "2023-04-27T13:26:35.010609Z",
     "iopub.status.busy": "2023-04-27T13:26:35.009814Z",
     "iopub.status.idle": "2023-04-27T13:26:35.014839Z",
     "shell.execute_reply": "2023-04-27T13:26:35.013919Z",
     "shell.execute_reply.started": "2023-04-27T13:26:35.010564Z"
    }
   },
   "source": [
    "## Task 1.5: How many catches in inning 1 and inning 2"
   ]
  },
  {
   "cell_type": "code",
   "execution_count": null,
   "metadata": {
    "execution": {
     "iopub.execute_input": "2023-04-27T13:41:04.660607Z",
     "iopub.status.busy": "2023-04-27T13:41:04.660037Z",
     "iopub.status.idle": "2023-04-27T13:41:04.674235Z",
     "shell.execute_reply": "2023-04-27T13:41:04.672703Z",
     "shell.execute_reply.started": "2023-04-27T13:41:04.660554Z"
    }
   },
   "outputs": [],
   "source": [
    "inning1_catch = match1[(match1['comment'].str.contains('Wicket - c.*b')) & (match1['inningno'] == 1)]\n",
    "inning2_catch = match1[(match1['comment'].str.contains('Wicket - c.*b')) & (match1['inningno'] == 2)]\n",
    "print(len(inning1_catch))\n",
    "print(len(inning2_catch))"
   ]
  },
  {
   "cell_type": "code",
   "execution_count": null,
   "metadata": {
    "execution": {
     "iopub.execute_input": "2023-04-27T13:41:04.677334Z",
     "iopub.status.busy": "2023-04-27T13:41:04.676942Z",
     "iopub.status.idle": "2023-04-27T13:41:04.683498Z",
     "shell.execute_reply": "2023-04-27T13:41:04.681998Z",
     "shell.execute_reply.started": "2023-04-27T13:41:04.677295Z"
    }
   },
   "outputs": [],
   "source": [
    "## it means 5 players catch out in inning1 and 4 were in inning2."
   ]
  },
  {
   "cell_type": "markdown",
   "metadata": {},
   "source": [
    "## Task 1.6: How many run out in inning 1 and inning 2"
   ]
  },
  {
   "cell_type": "code",
   "execution_count": null,
   "metadata": {
    "execution": {
     "iopub.execute_input": "2023-04-27T13:55:17.076953Z",
     "iopub.status.busy": "2023-04-27T13:55:17.076539Z",
     "iopub.status.idle": "2023-04-27T13:55:17.087321Z",
     "shell.execute_reply": "2023-04-27T13:55:17.086145Z",
     "shell.execute_reply.started": "2023-04-27T13:55:17.076917Z"
    }
   },
   "outputs": [],
   "source": [
    "runout1 = match1[(match1['inningno'] == 1) & (match1['comment'].str.contains(\"Wicket - runout\"))]\n",
    "runout2 = match1[(match1['inningno'] == 2) & (match1['comment'].str.contains(\"Wicket - runout\"))]\n",
    "print(len(runout1))\n",
    "print(len(runout2))"
   ]
  },
  {
   "cell_type": "code",
   "execution_count": null,
   "metadata": {
    "execution": {
     "iopub.execute_input": "2023-04-27T13:55:42.250843Z",
     "iopub.status.busy": "2023-04-27T13:55:42.250105Z",
     "iopub.status.idle": "2023-04-27T13:55:42.25543Z",
     "shell.execute_reply": "2023-04-27T13:55:42.254032Z",
     "shell.execute_reply.started": "2023-04-27T13:55:42.250802Z"
    }
   },
   "outputs": [],
   "source": [
    "## it means there were no runout in inning1 and no runout in inning 2"
   ]
  },
  {
   "cell_type": "markdown",
   "metadata": {},
   "source": [
    "## Task 1.7: How many stump out in inning 1 and inning 2"
   ]
  },
  {
   "cell_type": "code",
   "execution_count": null,
   "metadata": {
    "execution": {
     "iopub.execute_input": "2023-04-27T14:06:31.431581Z",
     "iopub.status.busy": "2023-04-27T14:06:31.431122Z",
     "iopub.status.idle": "2023-04-27T14:06:31.446132Z",
     "shell.execute_reply": "2023-04-27T14:06:31.444926Z",
     "shell.execute_reply.started": "2023-04-27T14:06:31.431541Z"
    }
   },
   "outputs": [],
   "source": [
    "stumpout1 = match1[(match1['inningno'] == 1) & (match1['comment'].str.contains(\"Wicket - b\"))]\n",
    "stumpout2 = match1[(match1['inningno'] == 2) & (match1['comment'].str.contains(\"Wicket - b\"))]\n",
    "print(len(stumpout1))\n",
    "print(len(stumpout2))"
   ]
  },
  {
   "cell_type": "code",
   "execution_count": null,
   "metadata": {
    "execution": {
     "iopub.execute_input": "2023-04-27T14:07:02.875359Z",
     "iopub.status.busy": "2023-04-27T14:07:02.874959Z",
     "iopub.status.idle": "2023-04-27T14:07:02.880957Z",
     "shell.execute_reply": "2023-04-27T14:07:02.879464Z",
     "shell.execute_reply.started": "2023-04-27T14:07:02.875323Z"
    }
   },
   "outputs": [],
   "source": [
    "## it means 2 players were stump out in inning 1 and 1 was in inning2"
   ]
  },
  {
   "cell_type": "code",
   "execution_count": null,
   "metadata": {},
   "outputs": [],
   "source": []
  }
 ],
 "metadata": {
  "kernelspec": {
   "display_name": "Python 3 (ipykernel)",
   "language": "python",
   "name": "python3"
  },
  "language_info": {
   "codemirror_mode": {
    "name": "ipython",
    "version": 3
   },
   "file_extension": ".py",
   "mimetype": "text/x-python",
   "name": "python",
   "nbconvert_exporter": "python",
   "pygments_lexer": "ipython3",
   "version": "3.9.12"
  }
 },
 "nbformat": 4,
 "nbformat_minor": 4
}
